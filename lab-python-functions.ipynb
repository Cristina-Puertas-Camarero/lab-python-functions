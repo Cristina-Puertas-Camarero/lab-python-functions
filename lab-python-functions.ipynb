{
 "cells": [
  {
   "cell_type": "markdown",
   "id": "25d7736c-ba17-4aff-b6bb-66eba20fbf4e",
   "metadata": {},
   "source": [
    "# Lab | Functions"
   ]
  },
  {
   "cell_type": "code",
   "execution_count": 3,
   "id": "ea155ace",
   "metadata": {},
   "outputs": [],
   "source": [
    "products = (\"t-shirt\", \"mug\", \"hat\", \"book\", \"keychain\")"
   ]
  },
  {
   "cell_type": "code",
   "execution_count": 4,
   "id": "669851b0",
   "metadata": {},
   "outputs": [],
   "source": [
    "inventory = {}"
   ]
  },
  {
   "cell_type": "code",
   "execution_count": 8,
   "id": "7ae4ab7f",
   "metadata": {},
   "outputs": [],
   "source": [
    "for product in products:\n",
    "    inventory[product] = int(input(f\"cuantos {product}s hay? \"))"
   ]
  },
  {
   "cell_type": "code",
   "execution_count": 37,
   "id": "2332f1da",
   "metadata": {},
   "outputs": [],
   "source": [
    "def initialize_inventory(products):\n",
    "    inventory = {}\n",
    "    for product in products:\n",
    "        inventory[product] = int(input(f\"cuantos {product}s hay? \"))"
   ]
  },
  {
   "cell_type": "code",
   "execution_count": 38,
   "id": "f01f9bb1",
   "metadata": {},
   "outputs": [],
   "source": [
    "def get_customer_orders(products):\n",
    "    customer_orders = set()"
   ]
  },
  {
   "cell_type": "code",
   "execution_count": 39,
   "id": "19a8e542",
   "metadata": {},
   "outputs": [],
   "source": [
    "while True:\n",
    "    product = input(\"introduce el nombre del producto que quieres: \")\n",
    "    if product in products:\n",
    "        customer_orders.add(product)\n",
    "    else:\n",
    "        print(\"producto inválido.\")\n",
    "    \n",
    "    continue_shopping = input(\"quieres seguir comprando? (si/no): \")\n",
    "    if continue_shopping in \"si\":\n",
    "        customer_orders.add(product)\n",
    "    \n",
    "    continue_shopping = input(\"quieres seguir comprando? (si/no): \")\n",
    "    if continue_shopping != 'si':\n",
    "        break"
   ]
  },
  {
   "cell_type": "code",
   "execution_count": 40,
   "id": "5e6384bc",
   "metadata": {},
   "outputs": [],
   "source": [
    "def update_inventory(customer_orders, inventory):\n",
    "    for product in customer_orders:\n",
    "        if inventory[product] > 0:\n",
    "            inventory[product] -= 1\n",
    "        else:\n",
    "            print(f\"no quedan {product}s.\")"
   ]
  },
  {
   "cell_type": "code",
   "execution_count": 41,
   "id": "61038de6",
   "metadata": {},
   "outputs": [
    {
     "name": "stdout",
     "output_type": "stream",
     "text": [
      "{'book'}\n"
     ]
    }
   ],
   "source": [
    "print(customer_orders)"
   ]
  },
  {
   "cell_type": "code",
   "execution_count": 42,
   "id": "64870f3f",
   "metadata": {},
   "outputs": [],
   "source": [
    "def update_inventory(customer_orders, inventory):\n",
    "    for product in customer_orders:\n",
    "        if inventory[product] > 0:\n",
    "            inventory[product] -= 1\n",
    "        else:\n",
    "            print(f\"no quedan {product}s.\")"
   ]
  },
  {
   "cell_type": "code",
   "execution_count": 43,
   "id": "19b25dec",
   "metadata": {},
   "outputs": [],
   "source": [
    "def print_order_statistics(order_statistics):\n",
    "    total_products_ordered, percentage_products_ordered = order_statistics\n",
    "    print(f\"Order Statistics:\\nTotal Products Ordered: {total_products_ordered}\\nPercentage of Products Ordered: {percentage_products_ordered}%\")"
   ]
  },
  {
   "cell_type": "code",
   "execution_count": 44,
   "id": "922866ab",
   "metadata": {},
   "outputs": [],
   "source": [
    "\n",
    "def print_updated_inventory(inventory):\n",
    "    print(\"Updated inventory:\")\n",
    "    for product, quantity in inventory.items():\n",
    "        print(f\"{product}: {quantity}\")"
   ]
  },
  {
   "cell_type": "code",
   "execution_count": 46,
   "id": "f27ef52d",
   "metadata": {},
   "outputs": [],
   "source": [
    "update_inventory(customer_orders, inventory)"
   ]
  },
  {
   "cell_type": "code",
   "execution_count": 47,
   "id": "a7f24845",
   "metadata": {},
   "outputs": [
    {
     "name": "stdout",
     "output_type": "stream",
     "text": [
      "Updated inventory:\n",
      "t-shirt: 4\n",
      "mug: 4\n",
      "hat: 4\n",
      "book: 2\n",
      "keychain: 4\n"
     ]
    }
   ],
   "source": [
    "print_updated_inventory(inventory)"
   ]
  },
  {
   "cell_type": "code",
   "execution_count": 49,
   "id": "2ff2b534",
   "metadata": {},
   "outputs": [],
   "source": [
    "def print_order_statistics(order_statistics):\n",
    "    total_products_ordered, percentage_products_ordered = order_statistics\n",
    "    print(f\"productos que hay:\\nTotal Productos comprados: {total_products_ordered}\\nPorcentaje de pedidos: {percentage_products_ordered}%\")"
   ]
  },
  {
   "cell_type": "code",
   "execution_count": 48,
   "id": "b42e3193",
   "metadata": {},
   "outputs": [],
   "source": [
    "def print_updated_inventory(inventory):\n",
    "    print(\"Updated inventory:\")\n",
    "    for product, quantity in inventory.items():\n",
    "        print(f\"{product}: {quantity}\")"
   ]
  }
 ],
 "metadata": {
  "kernelspec": {
   "display_name": "base",
   "language": "python",
   "name": "python3"
  },
  "language_info": {
   "codemirror_mode": {
    "name": "ipython",
    "version": 3
   },
   "file_extension": ".py",
   "mimetype": "text/x-python",
   "name": "python",
   "nbconvert_exporter": "python",
   "pygments_lexer": "ipython3",
   "version": "3.12.7"
  }
 },
 "nbformat": 4,
 "nbformat_minor": 5
}
