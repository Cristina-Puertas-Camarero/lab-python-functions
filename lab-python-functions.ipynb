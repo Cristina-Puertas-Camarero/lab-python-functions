{
 "cells": [
  {
   "cell_type": "markdown",
   "id": "25d7736c-ba17-4aff-b6bb-66eba20fbf4e",
   "metadata": {},
   "source": [
    "# Lab | Functions"
   ]
  },
  {
   "cell_type": "code",
   "execution_count": 3,
   "id": "ea155ace",
   "metadata": {},
   "outputs": [],
   "source": [
    "products = (\"t-shirt\", \"mug\", \"hat\", \"book\", \"keychain\")"
   ]
  },
  {
   "cell_type": "code",
   "execution_count": 4,
   "id": "669851b0",
   "metadata": {},
   "outputs": [],
   "source": [
    "inventory = {}"
   ]
  },
  {
   "cell_type": "code",
   "execution_count": 8,
   "id": "7ae4ab7f",
   "metadata": {},
   "outputs": [],
   "source": [
    "for product in products:\n",
    "    inventory[product] = int(input(f\"cuantos {product}s hay? \"))"
   ]
  },
  {
   "cell_type": "code",
   "execution_count": 37,
   "id": "2332f1da",
   "metadata": {},
   "outputs": [],
   "source": [
    "def initialize_inventory(products):\n",
    "    inventory = {}\n",
    "    for product in products:\n",
    "        inventory[product] = int(input(f\"cuantos {product}s hay? \"))"
   ]
  },
  {
   "cell_type": "code",
   "execution_count": 38,
   "id": "f01f9bb1",
   "metadata": {},
   "outputs": [],
   "source": [
    "def get_customer_orders(products):\n",
    "    customer_orders = set()"
   ]
  },
  {
   "cell_type": "code",
   "execution_count": 39,
   "id": "19a8e542",
   "metadata": {},
   "outputs": [],
   "source": [
    "while True:\n",
    "    product = input(\"introduce el nombre del producto que quieres: \")\n",
    "    if product in products:\n",
    "        customer_orders.add(product)\n",
    "    else:\n",
    "        print(\"producto inválido.\")\n",
    "    \n",
    "    continue_shopping = input(\"quieres seguir comprando? (si/no): \")\n",
    "    if continue_shopping in \"si\":\n",
    "        customer_orders.add(product)\n",
    "    \n",
    "    continue_shopping = input(\"quieres seguir comprando? (si/no): \")\n",
    "    if continue_shopping != 'si':\n",
    "        break"
   ]
  },
  {
   "cell_type": "code",
   "execution_count": 40,
   "id": "5e6384bc",
   "metadata": {},
   "outputs": [],
   "source": [
    "def update_inventory(customer_orders, inventory):\n",
    "    for product in customer_orders:\n",
    "        if inventory[product] > 0:\n",
    "            inventory[product] -= 1\n",
    "        else:\n",
    "            print(f\"no quedan {product}s.\")"
   ]
  },
  {
   "cell_type": "code",
   "execution_count": 41,
   "id": "61038de6",
   "metadata": {},
   "outputs": [
    {
     "name": "stdout",
     "output_type": "stream",
     "text": [
      "{'book'}\n"
     ]
    }
   ],
   "source": [
    "print(customer_orders)"
   ]
  },
  {
   "cell_type": "code",
   "execution_count": 42,
   "id": "64870f3f",
   "metadata": {},
   "outputs": [],
   "source": [
    "def update_inventory(customer_orders, inventory):\n",
    "    for product in customer_orders:\n",
    "        if inventory[product] > 0:\n",
    "            inventory[product] -= 1\n",
    "        else:\n",
    "            print(f\"no quedan {product}s.\")"
   ]
  },
  {
   "cell_type": "code",
   "execution_count": 43,
   "id": "19b25dec",
   "metadata": {},
   "outputs": [],
   "source": [
    "def print_order_statistics(order_statistics):\n",
    "    total_products_ordered, percentage_products_ordered = order_statistics\n",
    "    print(f\"Order Statistics:\\nTotal Products Ordered: {total_products_ordered}\\nPercentage of Products Ordered: {percentage_products_ordered}%\")"
   ]
  },
  {
   "cell_type": "code",
   "execution_count": 44,
   "id": "922866ab",
   "metadata": {},
   "outputs": [],
   "source": [
    "\n",
    "def print_updated_inventory(inventory):\n",
    "    print(\"Updated inventory:\")\n",
    "    for product, quantity in inventory.items():\n",
    "        print(f\"{product}: {quantity}\")"
   ]
  },
  {
   "cell_type": "code",
   "execution_count": 46,
   "id": "f27ef52d",
   "metadata": {},
   "outputs": [],
   "source": [
    "update_inventory(customer_orders, inventory)"
   ]
  },
  {
   "cell_type": "code",
   "execution_count": 47,
   "id": "a7f24845",
   "metadata": {},
   "outputs": [
    {
     "name": "stdout",
     "output_type": "stream",
     "text": [
      "Updated inventory:\n",
      "t-shirt: 4\n",
      "mug: 4\n",
      "hat: 4\n",
      "book: 2\n",
      "keychain: 4\n"
     ]
    }
   ],
   "source": [
    "print_updated_inventory(inventory)"
   ]
  },
  {
   "cell_type": "code",
   "execution_count": 49,
   "id": "2ff2b534",
   "metadata": {},
   "outputs": [],
   "source": [
    "def print_order_statistics(order_statistics):\n",
    "    total_products_ordered, percentage_products_ordered = order_statistics\n",
    "    print(f\"productos que hay:\\nTotal Productos comprados: {total_products_ordered}\\nPorcentaje de pedidos: {percentage_products_ordered}%\")"
   ]
  },
  {
   "cell_type": "code",
   "execution_count": 48,
   "id": "b42e3193",
   "metadata": {},
   "outputs": [],
   "source": [
    "def print_updated_inventory(inventory):\n",
    "    print(\"Updated inventory:\")\n",
    "    for product, quantity in inventory.items():\n",
    "        print(f\"{product}: {quantity}\")"
   ]
  },
  {
   "cell_type": "code",
   "execution_count": 8,
   "id": "f31eca59",
   "metadata": {},
   "outputs": [],
   "source": [
    "products = ['T-shit','mug','hat','book']"
   ]
  },
  {
   "cell_type": "code",
   "execution_count": 9,
   "id": "7cb2aa32",
   "metadata": {},
   "outputs": [],
   "source": [
    "def initialize_inventory(products):\n",
    "    inventory = {}\n",
    "    for product in products:\n",
    "        inventory[product] = int(input(f\"Introduce cantidad {product}: \"))\n",
    "    return inventory\n"
   ]
  },
  {
   "cell_type": "code",
   "execution_count": 10,
   "id": "5b862243",
   "metadata": {},
   "outputs": [],
   "source": [
    "def get_customer_orders():\n",
    "    customer_orders = set()\n",
    "    while True:\n",
    "        product = input(\"Nombre del producto (o escribe 'no' si quieres salir): \")\n",
    "        if product.lower() == 'no':\n",
    "            break\n",
    "        customer_orders.add(product)\n",
    "    return customer_orders\n"
   ]
  },
  {
   "cell_type": "code",
   "execution_count": 11,
   "id": "a03ce7ae",
   "metadata": {},
   "outputs": [],
   "source": [
    "def update_inventory(customer_orders, inventory):\n",
    "    for product in customer_orders:\n",
    "        if product in inventory:\n",
    "            inventory[product] -= 1\n",
    "            if inventory[product] < 0:\n",
    "                inventory[product] = 0\n",
    "    return inventory\n"
   ]
  },
  {
   "cell_type": "code",
   "execution_count": 12,
   "id": "03c470fd",
   "metadata": {},
   "outputs": [],
   "source": [
    "def print_order_statistics(order_statistics):\n",
    "    total_products_ordered, percentage_unique_ordered = order_statistics\n",
    "    print(f\"Total productos comprados: {total_products_ordered}\")\n",
    "    print(f\"porcentaje productos compradosd: {percentage_unique_ordered:.2f}%\")\n"
   ]
  },
  {
   "cell_type": "code",
   "execution_count": 13,
   "id": "0ca53d68",
   "metadata": {},
   "outputs": [
    {
     "name": "stdout",
     "output_type": "stream",
     "text": [
      "\n",
      "Initial inventory:\n"
     ]
    },
    {
     "ename": "NameError",
     "evalue": "name 'print_updated_inventory' is not defined",
     "output_type": "error",
     "traceback": [
      "\u001b[1;31m---------------------------------------------------------------------------\u001b[0m",
      "\u001b[1;31mNameError\u001b[0m                                 Traceback (most recent call last)",
      "Cell \u001b[1;32mIn[13], line 3\u001b[0m\n\u001b[0;32m      1\u001b[0m inventory \u001b[38;5;241m=\u001b[39m initialize_inventory(products)\n\u001b[0;32m      2\u001b[0m \u001b[38;5;28mprint\u001b[39m(\u001b[38;5;124m\"\u001b[39m\u001b[38;5;130;01m\\n\u001b[39;00m\u001b[38;5;124mInitial inventory:\u001b[39m\u001b[38;5;124m\"\u001b[39m)\n\u001b[1;32m----> 3\u001b[0m print_updated_inventory(inventory)\n\u001b[0;32m      5\u001b[0m customer_orders \u001b[38;5;241m=\u001b[39m get_customer_orders()\n\u001b[0;32m      6\u001b[0m \u001b[38;5;28mprint\u001b[39m(\u001b[38;5;124mf\u001b[39m\u001b[38;5;124m\"\u001b[39m\u001b[38;5;130;01m\\n\u001b[39;00m\u001b[38;5;124mCustomer orders: \u001b[39m\u001b[38;5;132;01m{\u001b[39;00mcustomer_orders\u001b[38;5;132;01m}\u001b[39;00m\u001b[38;5;124m\"\u001b[39m)\n",
      "\u001b[1;31mNameError\u001b[0m: name 'print_updated_inventory' is not defined"
     ]
    }
   ],
   "source": [
    "\n",
    "    inventory = initialize_inventory(products)\n",
    "    print(\"\\nInitial inventory:\")\n",
    "    print_updated_inventory(inventory)\n",
    "\n",
    "    customer_orders = get_customer_orders()\n",
    "    print(f\"\\nCustomer orders: {customer_orders}\")\n",
    "\n",
    "    inventory = update_inventory(customer_orders, inventory)\n",
    "    print(\"\\nInventory after updating:\")\n",
    "    print_updated_inventory(inventory)\n",
    "\n",
    "    order_statistics = calculate_order_statistics(customer_orders, products)\n",
    "\n",
    "    \n",
    "    print(\"\\nOrder statistics:\")\n",
    "    print_order_statistics(order_statistics)"
   ]
  }
 ],
 "metadata": {
  "kernelspec": {
   "display_name": "base",
   "language": "python",
   "name": "python3"
  },
  "language_info": {
   "codemirror_mode": {
    "name": "ipython",
    "version": 3
   },
   "file_extension": ".py",
   "mimetype": "text/x-python",
   "name": "python",
   "nbconvert_exporter": "python",
   "pygments_lexer": "ipython3",
   "version": "3.12.7"
  }
 },
 "nbformat": 4,
 "nbformat_minor": 5
}
